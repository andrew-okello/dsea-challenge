{
 "cells": [
  {
   "cell_type": "code",
   "execution_count": 34,
   "metadata": {},
   "outputs": [],
   "source": [
    "#importing libraries\n",
    "import numpy as np\n",
    "import pandas as pd\n",
    "from sklearn import metrics\n",
    "import matplotlib.pyplot as plt\n",
    "import seaborn as sns\n"
   ]
  },
  {
   "cell_type": "code",
   "execution_count": 57,
   "metadata": {},
   "outputs": [],
   "source": [
    "data =pd.read_excel(\"C:\\\\Users\\\\Roxton\\\\Desktop\\\\Mobile_Banking .xlsx\")\n",
    "data2 =pd.read_csv(\"C:\\\\Users\\\\Roxton\\\\Desktop\\\\property data.csv\")"
   ]
  },
  {
   "cell_type": "code",
   "execution_count": 59,
   "metadata": {},
   "outputs": [
    {
     "data": {
      "text/html": [
       "<div>\n",
       "<style scoped>\n",
       "    .dataframe tbody tr th:only-of-type {\n",
       "        vertical-align: middle;\n",
       "    }\n",
       "\n",
       "    .dataframe tbody tr th {\n",
       "        vertical-align: top;\n",
       "    }\n",
       "\n",
       "    .dataframe thead th {\n",
       "        text-align: right;\n",
       "    }\n",
       "</style>\n",
       "<table border=\"1\" class=\"dataframe\">\n",
       "  <thead>\n",
       "    <tr style=\"text-align: right;\">\n",
       "      <th></th>\n",
       "      <th>PID</th>\n",
       "      <th>ST_NUM</th>\n",
       "      <th>ST_NAME</th>\n",
       "      <th>OWN_OCCUPIED</th>\n",
       "      <th>NUM_BEDROOMS</th>\n",
       "      <th>NUM_BATH</th>\n",
       "      <th>SQ_FT</th>\n",
       "    </tr>\n",
       "  </thead>\n",
       "  <tbody>\n",
       "    <tr>\n",
       "      <td>0</td>\n",
       "      <td>100001000.0</td>\n",
       "      <td>104.0</td>\n",
       "      <td>PUTNAM</td>\n",
       "      <td>Y</td>\n",
       "      <td>3</td>\n",
       "      <td>1</td>\n",
       "      <td>1000</td>\n",
       "    </tr>\n",
       "    <tr>\n",
       "      <td>1</td>\n",
       "      <td>100002000.0</td>\n",
       "      <td>197.0</td>\n",
       "      <td>LEXINGTON</td>\n",
       "      <td>N</td>\n",
       "      <td>3</td>\n",
       "      <td>1.5</td>\n",
       "      <td>--</td>\n",
       "    </tr>\n",
       "    <tr>\n",
       "      <td>2</td>\n",
       "      <td>100003000.0</td>\n",
       "      <td>NaN</td>\n",
       "      <td>LEXINGTON</td>\n",
       "      <td>N</td>\n",
       "      <td>NaN</td>\n",
       "      <td>1</td>\n",
       "      <td>850</td>\n",
       "    </tr>\n",
       "    <tr>\n",
       "      <td>3</td>\n",
       "      <td>100004000.0</td>\n",
       "      <td>201.0</td>\n",
       "      <td>BERKELEY</td>\n",
       "      <td>12</td>\n",
       "      <td>1</td>\n",
       "      <td>NaN</td>\n",
       "      <td>700</td>\n",
       "    </tr>\n",
       "    <tr>\n",
       "      <td>4</td>\n",
       "      <td>NaN</td>\n",
       "      <td>203.0</td>\n",
       "      <td>BERKELEY</td>\n",
       "      <td>Y</td>\n",
       "      <td>3</td>\n",
       "      <td>2</td>\n",
       "      <td>1600</td>\n",
       "    </tr>\n",
       "  </tbody>\n",
       "</table>\n",
       "</div>"
      ],
      "text/plain": [
       "           PID  ST_NUM    ST_NAME OWN_OCCUPIED NUM_BEDROOMS NUM_BATH SQ_FT\n",
       "0  100001000.0   104.0     PUTNAM            Y            3        1  1000\n",
       "1  100002000.0   197.0  LEXINGTON            N            3      1.5    --\n",
       "2  100003000.0     NaN  LEXINGTON            N          NaN        1   850\n",
       "3  100004000.0   201.0   BERKELEY           12            1      NaN   700\n",
       "4          NaN   203.0   BERKELEY            Y            3        2  1600"
      ]
     },
     "execution_count": 59,
     "metadata": {},
     "output_type": "execute_result"
    }
   ],
   "source": [
    "#first 5 records for property\n",
    "data2.head()"
   ]
  },
  {
   "cell_type": "code",
   "execution_count": 47,
   "metadata": {},
   "outputs": [
    {
     "data": {
      "text/html": [
       "<div>\n",
       "<style scoped>\n",
       "    .dataframe tbody tr th:only-of-type {\n",
       "        vertical-align: middle;\n",
       "    }\n",
       "\n",
       "    .dataframe tbody tr th {\n",
       "        vertical-align: top;\n",
       "    }\n",
       "\n",
       "    .dataframe thead th {\n",
       "        text-align: right;\n",
       "    }\n",
       "</style>\n",
       "<table border=\"1\" class=\"dataframe\">\n",
       "  <thead>\n",
       "    <tr style=\"text-align: right;\">\n",
       "      <th></th>\n",
       "      <th>Number</th>\n",
       "      <th>Gender</th>\n",
       "      <th>Age Range</th>\n",
       "      <th>Have Bak Account</th>\n",
       "      <th>Bank account connected to MB</th>\n",
       "      <th>use</th>\n",
       "      <th>Importance</th>\n",
       "      <th>Benefit</th>\n",
       "      <th>Bank Visit</th>\n",
       "      <th>MbSafety</th>\n",
       "      <th>Influence</th>\n",
       "      <th>Satisfaction</th>\n",
       "    </tr>\n",
       "  </thead>\n",
       "  <tbody>\n",
       "    <tr>\n",
       "      <td>0</td>\n",
       "      <td>1</td>\n",
       "      <td>Male</td>\n",
       "      <td>21-30</td>\n",
       "      <td>Yes</td>\n",
       "      <td>Current Account</td>\n",
       "      <td>Airtime Purchase</td>\n",
       "      <td>Very</td>\n",
       "      <td>CostCharges</td>\n",
       "      <td>FewTimesAyear</td>\n",
       "      <td>Somewhat</td>\n",
       "      <td>TimeSaving</td>\n",
       "      <td>HighlySatisfactory</td>\n",
       "    </tr>\n",
       "    <tr>\n",
       "      <td>1</td>\n",
       "      <td>2</td>\n",
       "      <td>Female</td>\n",
       "      <td>21-30</td>\n",
       "      <td>Yes</td>\n",
       "      <td>Current Account</td>\n",
       "      <td>Money Transfer</td>\n",
       "      <td>Very</td>\n",
       "      <td>GoodService</td>\n",
       "      <td>FewTimesAyear</td>\n",
       "      <td>Somewhat</td>\n",
       "      <td>TimeSaving</td>\n",
       "      <td>HighlySatisfactory</td>\n",
       "    </tr>\n",
       "    <tr>\n",
       "      <td>2</td>\n",
       "      <td>3</td>\n",
       "      <td>Female</td>\n",
       "      <td>21-30</td>\n",
       "      <td>Yes</td>\n",
       "      <td>Current Account</td>\n",
       "      <td>Making Payments</td>\n",
       "      <td>Very</td>\n",
       "      <td>CostCharges</td>\n",
       "      <td>FewTimesAyear</td>\n",
       "      <td>Very</td>\n",
       "      <td>TimeSaving</td>\n",
       "      <td>HighlySatisfactory</td>\n",
       "    </tr>\n",
       "    <tr>\n",
       "      <td>3</td>\n",
       "      <td>4</td>\n",
       "      <td>Female</td>\n",
       "      <td>21-30</td>\n",
       "      <td>Yes</td>\n",
       "      <td>Current Account</td>\n",
       "      <td>Airtime Purchase</td>\n",
       "      <td>NaN</td>\n",
       "      <td>GoodService</td>\n",
       "      <td>FewTimesAyear</td>\n",
       "      <td>Somewhat</td>\n",
       "      <td>TimeSaving</td>\n",
       "      <td>Satisfactory</td>\n",
       "    </tr>\n",
       "    <tr>\n",
       "      <td>4</td>\n",
       "      <td>5</td>\n",
       "      <td>Female</td>\n",
       "      <td>21-30</td>\n",
       "      <td>Yes</td>\n",
       "      <td>Current Account</td>\n",
       "      <td>Making Payments</td>\n",
       "      <td>Very</td>\n",
       "      <td>CostCharges</td>\n",
       "      <td>FewTimesAyear</td>\n",
       "      <td>Very</td>\n",
       "      <td>TimeSaving</td>\n",
       "      <td>Average</td>\n",
       "    </tr>\n",
       "  </tbody>\n",
       "</table>\n",
       "</div>"
      ],
      "text/plain": [
       "   Number  Gender Age Range Have Bak Account Bank account connected to MB  \\\n",
       "0       1    Male     21-30              Yes              Current Account   \n",
       "1       2  Female     21-30              Yes              Current Account   \n",
       "2       3  Female     21-30              Yes              Current Account   \n",
       "3       4  Female     21-30              Yes              Current Account   \n",
       "4       5  Female     21-30              Yes              Current Account   \n",
       "\n",
       "                use Importance      Benefit     Bank Visit  MbSafety  \\\n",
       "0  Airtime Purchase       Very  CostCharges  FewTimesAyear  Somewhat   \n",
       "1    Money Transfer       Very  GoodService  FewTimesAyear  Somewhat   \n",
       "2   Making Payments       Very  CostCharges  FewTimesAyear      Very   \n",
       "3  Airtime Purchase        NaN  GoodService  FewTimesAyear  Somewhat   \n",
       "4   Making Payments       Very  CostCharges  FewTimesAyear      Very   \n",
       "\n",
       "    Influence        Satisfaction  \n",
       "0  TimeSaving  HighlySatisfactory  \n",
       "1  TimeSaving  HighlySatisfactory  \n",
       "2  TimeSaving  HighlySatisfactory  \n",
       "3  TimeSaving        Satisfactory  \n",
       "4  TimeSaving             Average  "
      ]
     },
     "execution_count": 47,
     "metadata": {},
     "output_type": "execute_result"
    }
   ],
   "source": [
    "#first 5 records\n",
    "data.head(5)"
   ]
  },
  {
   "cell_type": "code",
   "execution_count": 48,
   "metadata": {},
   "outputs": [
    {
     "data": {
      "text/html": [
       "<div>\n",
       "<style scoped>\n",
       "    .dataframe tbody tr th:only-of-type {\n",
       "        vertical-align: middle;\n",
       "    }\n",
       "\n",
       "    .dataframe tbody tr th {\n",
       "        vertical-align: top;\n",
       "    }\n",
       "\n",
       "    .dataframe thead th {\n",
       "        text-align: right;\n",
       "    }\n",
       "</style>\n",
       "<table border=\"1\" class=\"dataframe\">\n",
       "  <thead>\n",
       "    <tr style=\"text-align: right;\">\n",
       "      <th></th>\n",
       "      <th>Number</th>\n",
       "      <th>Gender</th>\n",
       "      <th>Age Range</th>\n",
       "      <th>Have Bak Account</th>\n",
       "      <th>Bank account connected to MB</th>\n",
       "      <th>use</th>\n",
       "      <th>Importance</th>\n",
       "      <th>Benefit</th>\n",
       "      <th>Bank Visit</th>\n",
       "      <th>MbSafety</th>\n",
       "      <th>Influence</th>\n",
       "      <th>Satisfaction</th>\n",
       "    </tr>\n",
       "  </thead>\n",
       "  <tbody>\n",
       "    <tr>\n",
       "      <td>38</td>\n",
       "      <td>40</td>\n",
       "      <td>Male</td>\n",
       "      <td>21-30</td>\n",
       "      <td>Yes</td>\n",
       "      <td>Current Account</td>\n",
       "      <td>Cash Withdraw</td>\n",
       "      <td>Somewhat</td>\n",
       "      <td>GoodService</td>\n",
       "      <td>FewTimesAyear</td>\n",
       "      <td>Very</td>\n",
       "      <td>TimeSaving</td>\n",
       "      <td>Satisfactory</td>\n",
       "    </tr>\n",
       "    <tr>\n",
       "      <td>39</td>\n",
       "      <td>43</td>\n",
       "      <td>Female</td>\n",
       "      <td>21-30</td>\n",
       "      <td>Yes</td>\n",
       "      <td>Savings Account</td>\n",
       "      <td>Money Transfer</td>\n",
       "      <td>Very</td>\n",
       "      <td>GoodService</td>\n",
       "      <td>OnceMonth</td>\n",
       "      <td>Very</td>\n",
       "      <td>TimeSaving</td>\n",
       "      <td>HighlySatisfactory</td>\n",
       "    </tr>\n",
       "    <tr>\n",
       "      <td>40</td>\n",
       "      <td>45</td>\n",
       "      <td>Male</td>\n",
       "      <td>21-30</td>\n",
       "      <td>Yes</td>\n",
       "      <td>None</td>\n",
       "      <td>Money Transfer</td>\n",
       "      <td>Very</td>\n",
       "      <td>GoodService</td>\n",
       "      <td>FewTimesAyear</td>\n",
       "      <td>Somewhat</td>\n",
       "      <td>TimeSaving</td>\n",
       "      <td>Satisfactory</td>\n",
       "    </tr>\n",
       "    <tr>\n",
       "      <td>41</td>\n",
       "      <td>46</td>\n",
       "      <td>Female</td>\n",
       "      <td>31-40</td>\n",
       "      <td>Yes</td>\n",
       "      <td>Current Account</td>\n",
       "      <td>Making Payments</td>\n",
       "      <td>Very</td>\n",
       "      <td>CostCharges</td>\n",
       "      <td>FewTimesAyear</td>\n",
       "      <td>Very</td>\n",
       "      <td>CostSaving</td>\n",
       "      <td>Satisfactory</td>\n",
       "    </tr>\n",
       "    <tr>\n",
       "      <td>42</td>\n",
       "      <td>47</td>\n",
       "      <td>Male</td>\n",
       "      <td>21-30</td>\n",
       "      <td>Yes</td>\n",
       "      <td>Current Account</td>\n",
       "      <td>Cash Withdraw</td>\n",
       "      <td>Very</td>\n",
       "      <td>GoodService</td>\n",
       "      <td>FewTimesAyear</td>\n",
       "      <td>Somewhat</td>\n",
       "      <td>TimeSaving</td>\n",
       "      <td>Satisfactory</td>\n",
       "    </tr>\n",
       "  </tbody>\n",
       "</table>\n",
       "</div>"
      ],
      "text/plain": [
       "    Number  Gender Age Range Have Bak Account Bank account connected to MB  \\\n",
       "38      40    Male     21-30              Yes              Current Account   \n",
       "39      43  Female     21-30              Yes              Savings Account   \n",
       "40      45    Male     21-30              Yes                         None   \n",
       "41      46  Female     31-40              Yes              Current Account   \n",
       "42      47    Male     21-30              Yes              Current Account   \n",
       "\n",
       "                use Importance      Benefit     Bank Visit  MbSafety  \\\n",
       "38    Cash Withdraw   Somewhat  GoodService  FewTimesAyear      Very   \n",
       "39   Money Transfer       Very  GoodService      OnceMonth      Very   \n",
       "40   Money Transfer       Very  GoodService  FewTimesAyear  Somewhat   \n",
       "41  Making Payments       Very  CostCharges  FewTimesAyear      Very   \n",
       "42    Cash Withdraw       Very  GoodService  FewTimesAyear  Somewhat   \n",
       "\n",
       "     Influence        Satisfaction  \n",
       "38  TimeSaving        Satisfactory  \n",
       "39  TimeSaving  HighlySatisfactory  \n",
       "40  TimeSaving        Satisfactory  \n",
       "41  CostSaving        Satisfactory  \n",
       "42  TimeSaving        Satisfactory  "
      ]
     },
     "execution_count": 48,
     "metadata": {},
     "output_type": "execute_result"
    }
   ],
   "source": [
    "#last 5 records\n",
    "data.tail(5)"
   ]
  },
  {
   "cell_type": "code",
   "execution_count": 60,
   "metadata": {},
   "outputs": [
    {
     "data": {
      "text/html": [
       "<div>\n",
       "<style scoped>\n",
       "    .dataframe tbody tr th:only-of-type {\n",
       "        vertical-align: middle;\n",
       "    }\n",
       "\n",
       "    .dataframe tbody tr th {\n",
       "        vertical-align: top;\n",
       "    }\n",
       "\n",
       "    .dataframe thead th {\n",
       "        text-align: right;\n",
       "    }\n",
       "</style>\n",
       "<table border=\"1\" class=\"dataframe\">\n",
       "  <thead>\n",
       "    <tr style=\"text-align: right;\">\n",
       "      <th></th>\n",
       "      <th>PID</th>\n",
       "      <th>ST_NUM</th>\n",
       "      <th>ST_NAME</th>\n",
       "      <th>OWN_OCCUPIED</th>\n",
       "      <th>NUM_BEDROOMS</th>\n",
       "      <th>NUM_BATH</th>\n",
       "      <th>SQ_FT</th>\n",
       "    </tr>\n",
       "  </thead>\n",
       "  <tbody>\n",
       "    <tr>\n",
       "      <td>4</td>\n",
       "      <td>NaN</td>\n",
       "      <td>203.0</td>\n",
       "      <td>BERKELEY</td>\n",
       "      <td>Y</td>\n",
       "      <td>3</td>\n",
       "      <td>2</td>\n",
       "      <td>1600</td>\n",
       "    </tr>\n",
       "    <tr>\n",
       "      <td>5</td>\n",
       "      <td>100006000.0</td>\n",
       "      <td>207.0</td>\n",
       "      <td>BERKELEY</td>\n",
       "      <td>Y</td>\n",
       "      <td>NaN</td>\n",
       "      <td>1</td>\n",
       "      <td>800</td>\n",
       "    </tr>\n",
       "    <tr>\n",
       "      <td>6</td>\n",
       "      <td>100007000.0</td>\n",
       "      <td>NaN</td>\n",
       "      <td>WASHINGTON</td>\n",
       "      <td>NaN</td>\n",
       "      <td>2</td>\n",
       "      <td>HURLEY</td>\n",
       "      <td>950</td>\n",
       "    </tr>\n",
       "    <tr>\n",
       "      <td>7</td>\n",
       "      <td>100008000.0</td>\n",
       "      <td>213.0</td>\n",
       "      <td>TREMONT</td>\n",
       "      <td>Y</td>\n",
       "      <td>1</td>\n",
       "      <td>1</td>\n",
       "      <td>NaN</td>\n",
       "    </tr>\n",
       "    <tr>\n",
       "      <td>8</td>\n",
       "      <td>100009000.0</td>\n",
       "      <td>215.0</td>\n",
       "      <td>TREMONT</td>\n",
       "      <td>Y</td>\n",
       "      <td>na</td>\n",
       "      <td>2</td>\n",
       "      <td>1800</td>\n",
       "    </tr>\n",
       "  </tbody>\n",
       "</table>\n",
       "</div>"
      ],
      "text/plain": [
       "           PID  ST_NUM     ST_NAME OWN_OCCUPIED NUM_BEDROOMS NUM_BATH SQ_FT\n",
       "4          NaN   203.0    BERKELEY            Y            3        2  1600\n",
       "5  100006000.0   207.0    BERKELEY            Y          NaN        1   800\n",
       "6  100007000.0     NaN  WASHINGTON          NaN            2   HURLEY   950\n",
       "7  100008000.0   213.0     TREMONT            Y            1        1   NaN\n",
       "8  100009000.0   215.0     TREMONT            Y           na        2  1800"
      ]
     },
     "execution_count": 60,
     "metadata": {},
     "output_type": "execute_result"
    }
   ],
   "source": [
    "data2.tail()"
   ]
  },
  {
   "cell_type": "code",
   "execution_count": 54,
   "metadata": {},
   "outputs": [
    {
     "name": "stdout",
     "output_type": "stream",
     "text": [
      "<class 'pandas.core.frame.DataFrame'>\n",
      "RangeIndex: 43 entries, 0 to 42\n",
      "Data columns (total 12 columns):\n",
      "Number                          43 non-null int64\n",
      "Gender                          43 non-null object\n",
      "Age Range                       43 non-null object\n",
      "Have Bak Account                43 non-null object\n",
      "Bank account connected to MB    43 non-null object\n",
      "use                             43 non-null object\n",
      "Importance                      42 non-null object\n",
      "Benefit                         43 non-null object\n",
      "Bank Visit                      43 non-null object\n",
      "MbSafety                        43 non-null object\n",
      "Influence                       43 non-null object\n",
      "Satisfaction                    43 non-null object\n",
      "dtypes: int64(1), object(11)\n",
      "memory usage: 4.2+ KB\n"
     ]
    }
   ],
   "source": [
    "#summery of the dataset\n",
    "\n",
    "data.info()"
   ]
  },
  {
   "cell_type": "code",
   "execution_count": 61,
   "metadata": {},
   "outputs": [
    {
     "name": "stdout",
     "output_type": "stream",
     "text": [
      "<class 'pandas.core.frame.DataFrame'>\n",
      "RangeIndex: 9 entries, 0 to 8\n",
      "Data columns (total 7 columns):\n",
      "PID             8 non-null float64\n",
      "ST_NUM          7 non-null float64\n",
      "ST_NAME         9 non-null object\n",
      "OWN_OCCUPIED    8 non-null object\n",
      "NUM_BEDROOMS    7 non-null object\n",
      "NUM_BATH        8 non-null object\n",
      "SQ_FT           8 non-null object\n",
      "dtypes: float64(2), object(5)\n",
      "memory usage: 632.0+ bytes\n"
     ]
    }
   ],
   "source": [
    "data2.info()"
   ]
  },
  {
   "cell_type": "code",
   "execution_count": 52,
   "metadata": {},
   "outputs": [
    {
     "data": {
      "image/png": "[encoded data removed]",
      "text/plain": [
       "<Figure size 180x180 with 2 Axes>"
      ]
     },
     "metadata": {
      "needs_background": "light"
     },
     "output_type": "display_data"
    }
   ],
   "source": [
    "#pair plots betweeen variable\n",
    "sns.pairplot(data,markers=\"p\")\n",
    "plt.show()"
   ]
  },
  {
   "cell_type": "code",
   "execution_count": 62,
   "metadata": {},
   "outputs": [
    {
     "name": "stderr",
     "output_type": "stream",
     "text": [
      "C:\\Users\\Roxton\\New folder\\lib\\site-packages\\numpy\\lib\\histograms.py:824: RuntimeWarning: invalid value encountered in greater_equal\n",
      "  keep = (tmp_a >= first_edge)\n",
      "C:\\Users\\Roxton\\New folder\\lib\\site-packages\\numpy\\lib\\histograms.py:825: RuntimeWarning: invalid value encountered in less_equal\n",
      "  keep &= (tmp_a <= last_edge)\n"
     ]
    },
    {
     "data": {
      "image/png": "[encoded data removed]",
      "text/plain": [
       "<Figure size 360x360 with 6 Axes>"
      ]
     },
     "metadata": {
      "needs_background": "light"
     },
     "output_type": "display_data"
    }
   ],
   "source": [
    "#pair plots betweeen variable\n",
    "sns.pairplot(data2,markers=\"p\")\n",
    "plt.show()"
   ]
  },
  {
   "cell_type": "code",
   "execution_count": 53,
   "metadata": {},
   "outputs": [
    {
     "data": {
      "text/plain": [
       "<matplotlib.axes._subplots.AxesSubplot at 0x2afafddec8>"
      ]
     },
     "execution_count": 53,
     "metadata": {},
     "output_type": "execute_result"
    },
    {
     "data": {
      "image/png": "[encoded data removed]",
      "text/plain": [
       "<Figure size 432x288 with 1 Axes>"
      ]
     },
     "metadata": {
      "needs_background": "light"
     },
     "output_type": "display_data"
    }
   ],
   "source": [
    "##lets find count of the values of gender\n",
    "sns.countplot(data.Gender)"
   ]
  },
  {
   "cell_type": "code",
   "execution_count": 63,
   "metadata": {},
   "outputs": [
    {
     "data": {
      "text/plain": [
       "<matplotlib.axes._subplots.AxesSubplot at 0x2afb1d3748>"
      ]
     },
     "execution_count": 63,
     "metadata": {},
     "output_type": "execute_result"
    },
    {
     "data": {
      "image/png": "[encoded data removed]",
      "text/plain": [
       "<Figure size 432x288 with 1 Axes>"
      ]
     },
     "metadata": {
      "needs_background": "light"
     },
     "output_type": "display_data"
    }
   ],
   "source": [
    "##lets find the count of each value of st name\n",
    "sns.countplot(data2.ST_NAME)"
   ]
  },
  {
   "cell_type": "code",
   "execution_count": 65,
   "metadata": {},
   "outputs": [],
   "source": [
    "ar2 = np.array([6, 7, 8, 9, 10])"
   ]
  },
  {
   "cell_type": "code",
   "execution_count": 66,
   "metadata": {},
   "outputs": [
    {
     "data": {
      "image/png": "[encoded data removed]",
      "text/plain": [
       "<Figure size 432x288 with 1 Axes>"
      ]
     },
     "metadata": {},
     "output_type": "display_data"
    }
   ],
   "source": [
    "plt.pie(ar2)\n",
    "\n",
    "plt.show() "
   ]
  },
  {
   "cell_type": "code",
   "execution_count": null,
   "metadata": {},
   "outputs": [],
   "source": []
  }
 ],
 "metadata": {
  "kernelspec": {
   "display_name": "Python 3",
   "language": "python",
   "name": "python3"
  },
  "language_info": {
   "codemirror_mode": {
    "name": "ipython",
    "version": 3
   },
   "file_extension": ".py",
   "mimetype": "text/x-python",
   "name": "python",
   "nbconvert_exporter": "python",
   "pygments_lexer": "ipython3",
   "version": "3.7.4"
  }
 },
 "nbformat": 4,
 "nbformat_minor": 2
}
